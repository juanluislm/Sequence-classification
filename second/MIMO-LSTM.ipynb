{
 "cells": [
  {
   "cell_type": "code",
   "execution_count": null,
   "metadata": {},
   "outputs": [],
   "source": [
    "\"\"\"\n",
    "Let's consider the following model. We seek to predict how many retweets and likes a news headline will receive \n",
    "on Twitter. The main input to the model will be the headline itself, as a sequence of words, but to spice things \n",
    "up, our model will also have an auxiliary input, receiving extra data such as the time of day when the headline \n",
    "was posted, etc. The model will also be supervised via two loss functions. Using the main loss function earlier \n",
    "in a model is a good regularization mechanism for deep models.\n",
    "\n",
    "The main input will receive the headline, as a sequence of integers (each integer encodes a word). The integers \n",
    "will be between 1 and 10,000 (a vocabulary of 10,000 words) and the sequences will be 100 words long.\n",
    "\"\"\""
   ]
  },
  {
   "cell_type": "code",
   "execution_count": 1,
   "metadata": {},
   "outputs": [
    {
     "name": "stderr",
     "output_type": "stream",
     "text": [
      "Using TensorFlow backend.\n"
     ]
    }
   ],
   "source": [
    "import keras\n",
    "from keras.layers import Input, Embedding, LSTM, Dense\n",
    "from keras.models import Model\n",
    "\n",
    "# Headline input: meant to receive sequences of 100 integers, between 1 and 10000.\n",
    "# Note that we can name any layer by passing it a \"name\" argument.\n",
    "main_input = Input(shape=(100,), dtype='int32', name='main_input')\n",
    "\n",
    "# This embedding layer will encode the input sequence\n",
    "# into a sequence of dense 512-dimensional vectors.\n",
    "x = Embedding(output_dim=512, input_dim=10000, input_length=100)(main_input)\n",
    "\n",
    "# A LSTM will transform the vector sequence into a single vector,\n",
    "# containing information about the entire sequence\n",
    "lstm_out = LSTM(32)(x)"
   ]
  },
  {
   "cell_type": "code",
   "execution_count": 2,
   "metadata": {},
   "outputs": [],
   "source": [
    "auxiliary_output = Dense(1, activation='sigmoid', name='aux_output')(lstm_out)"
   ]
  },
  {
   "cell_type": "code",
   "execution_count": 3,
   "metadata": {},
   "outputs": [],
   "source": [
    "auxiliary_input = Input(shape=(5,), name='aux_input')\n",
    "x = keras.layers.concatenate([lstm_out, auxiliary_input])\n",
    "\n",
    "# We stack a deep densely-connected network on top\n",
    "x = Dense(64, activation='relu')(x)\n",
    "x = Dense(64, activation='relu')(x)\n",
    "x = Dense(64, activation='relu')(x)\n",
    "\n",
    "# And finally we add the main logistic regression layer\n",
    "main_output = Dense(1, activation='sigmoid', name='main_output')(x)"
   ]
  },
  {
   "cell_type": "code",
   "execution_count": 4,
   "metadata": {},
   "outputs": [],
   "source": [
    "model = Model(inputs=[main_input, auxiliary_input], outputs=[main_output, auxiliary_output])"
   ]
  },
  {
   "cell_type": "code",
   "execution_count": 6,
   "metadata": {},
   "outputs": [],
   "source": [
    "model.compile(optimizer='rmsprop',\n",
    "              loss={'main_output': 'binary_crossentropy', 'aux_output': 'binary_crossentropy'},\n",
    "              loss_weights={'main_output': 1., 'aux_output': 0.2})"
   ]
  },
  {
   "cell_type": "code",
   "execution_count": 9,
   "metadata": {},
   "outputs": [],
   "source": [
    "import numpy as np\n",
    "\n",
    "MODEL_INPUT_BATCH_SIZE=32\n",
    "\n",
    "headline_data = np.random.uniform(low=1, high=9000, size=(MODEL_INPUT_BATCH_SIZE, 100)).astype(np.float32)\n",
    "headline_data.shape\n",
    "lstm_data = headline_data.reshape(MODEL_INPUT_BATCH_SIZE,1,100)\n",
    "additional_data = np.random.uniform(low=1, high=9000, size=(MODEL_INPUT_BATCH_SIZE, 5)).astype(np.float32)\n",
    "labels = np.random.randint(0, 1 + 1, size=(MODEL_INPUT_BATCH_SIZE, 1))"
   ]
  },
  {
   "cell_type": "code",
   "execution_count": 10,
   "metadata": {},
   "outputs": [
    {
     "name": "stdout",
     "output_type": "stream",
     "text": [
      "Epoch 1/50\n",
      "32/32 [==============================] - 1s 46ms/step - loss: 8.0876 - main_output_loss: 7.9484 - aux_output_loss: 0.6964\n",
      "Epoch 2/50\n",
      "32/32 [==============================] - 0s 6ms/step - loss: 4.1568 - main_output_loss: 4.0295 - aux_output_loss: 0.6362\n",
      "Epoch 3/50\n",
      "32/32 [==============================] - 0s 6ms/step - loss: 4.1438 - main_output_loss: 4.0295 - aux_output_loss: 0.5714\n",
      "Epoch 4/50\n",
      "32/32 [==============================] - 0s 5ms/step - loss: 4.1265 - main_output_loss: 4.0295 - aux_output_loss: 0.4849\n",
      "Epoch 5/50\n",
      "32/32 [==============================] - 0s 5ms/step - loss: 4.1052 - main_output_loss: 4.0295 - aux_output_loss: 0.3783\n",
      "Epoch 6/50\n",
      "32/32 [==============================] - 0s 6ms/step - loss: 4.0837 - main_output_loss: 4.0295 - aux_output_loss: 0.2708\n",
      "Epoch 7/50\n",
      "32/32 [==============================] - 0s 6ms/step - loss: 4.0681 - main_output_loss: 4.0295 - aux_output_loss: 0.1931\n",
      "Epoch 8/50\n",
      "32/32 [==============================] - 0s 6ms/step - loss: 4.0596 - main_output_loss: 4.0295 - aux_output_loss: 0.1502\n",
      "Epoch 9/50\n",
      "32/32 [==============================] - 0s 9ms/step - loss: 4.0548 - main_output_loss: 4.0295 - aux_output_loss: 0.1265\n",
      "Epoch 10/50\n",
      "32/32 [==============================] - 0s 6ms/step - loss: 4.0519 - main_output_loss: 4.0295 - aux_output_loss: 0.1117\n",
      "Epoch 11/50\n",
      "32/32 [==============================] - 0s 6ms/step - loss: 4.0498 - main_output_loss: 4.0295 - aux_output_loss: 0.1014\n",
      "Epoch 12/50\n",
      "32/32 [==============================] - 0s 6ms/step - loss: 4.0482 - main_output_loss: 4.0295 - aux_output_loss: 0.0935\n",
      "Epoch 13/50\n",
      "32/32 [==============================] - 0s 5ms/step - loss: 4.0469 - main_output_loss: 4.0295 - aux_output_loss: 0.0869\n",
      "Epoch 14/50\n",
      "32/32 [==============================] - 0s 6ms/step - loss: 4.0458 - main_output_loss: 4.0295 - aux_output_loss: 0.0812\n",
      "Epoch 15/50\n",
      "32/32 [==============================] - 0s 5ms/step - loss: 4.0447 - main_output_loss: 4.0295 - aux_output_loss: 0.0761\n",
      "Epoch 16/50\n",
      "32/32 [==============================] - 0s 5ms/step - loss: 4.0438 - main_output_loss: 4.0295 - aux_output_loss: 0.0715\n",
      "Epoch 17/50\n",
      "32/32 [==============================] - 0s 6ms/step - loss: 4.0430 - main_output_loss: 4.0295 - aux_output_loss: 0.0672\n",
      "Epoch 18/50\n",
      "32/32 [==============================] - 0s 5ms/step - loss: 4.0422 - main_output_loss: 4.0295 - aux_output_loss: 0.0632\n",
      "Epoch 19/50\n",
      "32/32 [==============================] - 0s 5ms/step - loss: 4.0414 - main_output_loss: 4.0295 - aux_output_loss: 0.0594\n",
      "Epoch 20/50\n",
      "32/32 [==============================] - 0s 6ms/step - loss: 4.0407 - main_output_loss: 4.0295 - aux_output_loss: 0.0559\n",
      "Epoch 21/50\n",
      "32/32 [==============================] - 0s 5ms/step - loss: 4.0401 - main_output_loss: 4.0295 - aux_output_loss: 0.0527\n",
      "Epoch 22/50\n",
      "32/32 [==============================] - 0s 5ms/step - loss: 4.0394 - main_output_loss: 4.0295 - aux_output_loss: 0.0496\n",
      "Epoch 23/50\n",
      "32/32 [==============================] - 0s 5ms/step - loss: 4.0389 - main_output_loss: 4.0295 - aux_output_loss: 0.0467\n",
      "Epoch 24/50\n",
      "32/32 [==============================] - 0s 5ms/step - loss: 4.0383 - main_output_loss: 4.0295 - aux_output_loss: 0.0441\n",
      "Epoch 25/50\n",
      "32/32 [==============================] - 0s 5ms/step - loss: 4.0378 - main_output_loss: 4.0295 - aux_output_loss: 0.0416\n",
      "Epoch 26/50\n",
      "32/32 [==============================] - 0s 6ms/step - loss: 4.0374 - main_output_loss: 4.0295 - aux_output_loss: 0.0392\n",
      "Epoch 27/50\n",
      "32/32 [==============================] - 0s 5ms/step - loss: 4.0369 - main_output_loss: 4.0295 - aux_output_loss: 0.0370\n",
      "Epoch 28/50\n",
      "32/32 [==============================] - 0s 5ms/step - loss: 4.0365 - main_output_loss: 4.0295 - aux_output_loss: 0.0349\n",
      "Epoch 29/50\n",
      "32/32 [==============================] - 0s 6ms/step - loss: 4.0361 - main_output_loss: 4.0295 - aux_output_loss: 0.0330\n",
      "Epoch 30/50\n",
      "32/32 [==============================] - 0s 6ms/step - loss: 4.0358 - main_output_loss: 4.0295 - aux_output_loss: 0.0312\n",
      "Epoch 31/50\n",
      "32/32 [==============================] - 0s 6ms/step - loss: 4.0354 - main_output_loss: 4.0295 - aux_output_loss: 0.0295\n",
      "Epoch 32/50\n",
      "32/32 [==============================] - 0s 6ms/step - loss: 4.0351 - main_output_loss: 4.0295 - aux_output_loss: 0.0278\n",
      "Epoch 33/50\n",
      "32/32 [==============================] - 0s 5ms/step - loss: 4.0348 - main_output_loss: 4.0295 - aux_output_loss: 0.0263\n",
      "Epoch 34/50\n",
      "32/32 [==============================] - 0s 6ms/step - loss: 4.0345 - main_output_loss: 4.0295 - aux_output_loss: 0.0249\n",
      "Epoch 35/50\n",
      "32/32 [==============================] - 0s 6ms/step - loss: 4.0342 - main_output_loss: 4.0295 - aux_output_loss: 0.0235\n",
      "Epoch 36/50\n",
      "32/32 [==============================] - 0s 6ms/step - loss: 4.0340 - main_output_loss: 4.0295 - aux_output_loss: 0.0222\n",
      "Epoch 37/50\n",
      "32/32 [==============================] - 0s 5ms/step - loss: 4.0337 - main_output_loss: 4.0295 - aux_output_loss: 0.0210\n",
      "Epoch 38/50\n",
      "32/32 [==============================] - 0s 5ms/step - loss: 4.0335 - main_output_loss: 4.0295 - aux_output_loss: 0.0199\n",
      "Epoch 39/50\n",
      "32/32 [==============================] - 0s 6ms/step - loss: 4.0333 - main_output_loss: 4.0295 - aux_output_loss: 0.0188\n",
      "Epoch 40/50\n",
      "32/32 [==============================] - 0s 5ms/step - loss: 4.0331 - main_output_loss: 4.0295 - aux_output_loss: 0.0177\n",
      "Epoch 41/50\n",
      "32/32 [==============================] - 0s 6ms/step - loss: 4.0329 - main_output_loss: 4.0295 - aux_output_loss: 0.0168\n",
      "Epoch 42/50\n",
      "32/32 [==============================] - 0s 5ms/step - loss: 4.0327 - main_output_loss: 4.0295 - aux_output_loss: 0.0158\n",
      "Epoch 43/50\n",
      "32/32 [==============================] - 0s 6ms/step - loss: 4.0325 - main_output_loss: 4.0295 - aux_output_loss: 0.0150\n",
      "Epoch 44/50\n",
      "32/32 [==============================] - 0s 6ms/step - loss: 4.0323 - main_output_loss: 4.0295 - aux_output_loss: 0.0141\n",
      "Epoch 45/50\n",
      "32/32 [==============================] - 0s 6ms/step - loss: 4.0322 - main_output_loss: 4.0295 - aux_output_loss: 0.0133\n",
      "Epoch 46/50\n",
      "32/32 [==============================] - 0s 6ms/step - loss: 4.0320 - main_output_loss: 4.0295 - aux_output_loss: 0.0126\n",
      "Epoch 47/50\n",
      "32/32 [==============================] - 0s 6ms/step - loss: 4.0319 - main_output_loss: 4.0295 - aux_output_loss: 0.0119\n",
      "Epoch 48/50\n",
      "32/32 [==============================] - 0s 6ms/step - loss: 4.0318 - main_output_loss: 4.0295 - aux_output_loss: 0.0112\n",
      "Epoch 49/50\n",
      "32/32 [==============================] - 0s 5ms/step - loss: 4.0316 - main_output_loss: 4.0295 - aux_output_loss: 0.0106\n",
      "Epoch 50/50\n",
      "32/32 [==============================] - 0s 5ms/step - loss: 4.0315 - main_output_loss: 4.0295 - aux_output_loss: 0.0100\n"
     ]
    },
    {
     "data": {
      "text/plain": [
       "<keras.callbacks.History at 0x12f7b0cc0>"
      ]
     },
     "execution_count": 10,
     "metadata": {},
     "output_type": "execute_result"
    }
   ],
   "source": [
    "# And trained it via:\n",
    "model.fit({'main_input': headline_data, 'aux_input': additional_data},\n",
    "          {'main_output': labels, 'aux_output': labels},\n",
    "          epochs=50, batch_size=MODEL_INPUT_BATCH_SIZE)"
   ]
  },
  {
   "cell_type": "code",
   "execution_count": null,
   "metadata": {},
   "outputs": [],
   "source": []
  }
 ],
 "metadata": {
  "kernelspec": {
   "display_name": "Python 3",
   "language": "python",
   "name": "python3"
  },
  "language_info": {
   "codemirror_mode": {
    "name": "ipython",
    "version": 3
   },
   "file_extension": ".py",
   "mimetype": "text/x-python",
   "name": "python",
   "nbconvert_exporter": "python",
   "pygments_lexer": "ipython3",
   "version": "3.6.6"
  }
 },
 "nbformat": 4,
 "nbformat_minor": 2
}
