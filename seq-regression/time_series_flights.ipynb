{
 "cells": [
  {
   "cell_type": "code",
   "execution_count": 1,
   "metadata": {},
   "outputs": [
    {
     "name": "stderr",
     "output_type": "stream",
     "text": [
      "Using TensorFlow backend.\n"
     ]
    }
   ],
   "source": [
    "import numpy\n",
    "import matplotlib.pyplot as plt\n",
    "import pandas\n",
    "import math\n",
    "from keras.models import Sequential\n",
    "from keras.layers import Dense\n",
    "from keras.layers import LSTM\n",
    "from sklearn.preprocessing import MinMaxScaler\n",
    "from sklearn.metrics import mean_squared_error\n",
    "# fix random seed for reproducibility\n",
    "numpy.random.seed(7)"
   ]
  },
  {
   "cell_type": "code",
   "execution_count": 2,
   "metadata": {},
   "outputs": [],
   "source": [
    "# load the dataset\n",
    "dataframe = pandas.read_csv('international-airline-passengers.csv', usecols=[1], engine='python', skipfooter=3)\n",
    "dataset = dataframe.values\n",
    "dataset = dataset.astype('float32')"
   ]
  },
  {
   "cell_type": "code",
   "execution_count": 3,
   "metadata": {},
   "outputs": [],
   "source": [
    "# normalize the dataset. LSTMs are very sensitive to scale\n",
    "scaler = MinMaxScaler(feature_range=(0, 1))\n",
    "dataset = scaler.fit_transform(dataset)"
   ]
  },
  {
   "cell_type": "code",
   "execution_count": 4,
   "metadata": {},
   "outputs": [],
   "source": [
    "train_size = int(len(dataset) * 0.80)\n",
    "test_size = len(dataset) - train_size\n",
    "train = dataset[0:train_size,:]\n",
    "test  = dataset[train_size:len(dataset),:]"
   ]
  },
  {
   "cell_type": "code",
   "execution_count": 5,
   "metadata": {},
   "outputs": [],
   "source": [
    "def create_dataset(dataset, look_back=1):\n",
    "    dataX, dataY = [], []\n",
    "    for i in range(len(dataset)-look_back-1):\n",
    "        a = dataset[i:(i+look_back), 0]\n",
    "        dataX.append(a)\n",
    "        dataY.append(dataset[i + look_back, 0])\n",
    "    return numpy.array(dataX), numpy.array(dataY)"
   ]
  },
  {
   "cell_type": "code",
   "execution_count": 6,
   "metadata": {},
   "outputs": [],
   "source": [
    "look_back=1\n",
    "trainX, trainY = create_dataset(train, look_back)\n",
    "testX, testY = create_dataset(test, look_back)"
   ]
  },
  {
   "cell_type": "code",
   "execution_count": 7,
   "metadata": {},
   "outputs": [],
   "source": [
    "trainX = numpy.reshape(trainX, (trainX.shape[0], 1, trainX.shape[1]))\n",
    "testX = numpy.reshape(testX, (testX.shape[0], 1, testX.shape[1]))"
   ]
  },
  {
   "cell_type": "code",
   "execution_count": 8,
   "metadata": {
    "scrolled": true
   },
   "outputs": [
    {
     "name": "stdout",
     "output_type": "stream",
     "text": [
      "Epoch 1/100\n",
      " - 1s - loss: 0.0634\n",
      "Epoch 2/100\n",
      " - 0s - loss: 0.0300\n",
      "Epoch 3/100\n",
      " - 0s - loss: 0.0207\n",
      "Epoch 4/100\n",
      " - 0s - loss: 0.0181\n",
      "Epoch 5/100\n",
      " - 0s - loss: 0.0164\n",
      "Epoch 6/100\n",
      " - 0s - loss: 0.0145\n",
      "Epoch 7/100\n",
      " - 0s - loss: 0.0126\n",
      "Epoch 8/100\n",
      " - 0s - loss: 0.0108\n",
      "Epoch 9/100\n",
      " - 0s - loss: 0.0091\n",
      "Epoch 10/100\n",
      " - 0s - loss: 0.0075\n",
      "Epoch 11/100\n",
      " - 0s - loss: 0.0061\n",
      "Epoch 12/100\n",
      " - 0s - loss: 0.0050\n",
      "Epoch 13/100\n",
      " - 0s - loss: 0.0042\n",
      "Epoch 14/100\n",
      " - 0s - loss: 0.0036\n",
      "Epoch 15/100\n",
      " - 0s - loss: 0.0032\n",
      "Epoch 16/100\n",
      " - 0s - loss: 0.0030\n",
      "Epoch 17/100\n",
      " - 0s - loss: 0.0029\n",
      "Epoch 18/100\n",
      " - 0s - loss: 0.0028\n",
      "Epoch 19/100\n",
      " - 0s - loss: 0.0028\n",
      "Epoch 20/100\n",
      " - 0s - loss: 0.0027\n",
      "Epoch 21/100\n",
      " - 0s - loss: 0.0028\n",
      "Epoch 22/100\n",
      " - 0s - loss: 0.0027\n",
      "Epoch 23/100\n",
      " - 0s - loss: 0.0027\n",
      "Epoch 24/100\n",
      " - 0s - loss: 0.0027\n",
      "Epoch 25/100\n",
      " - 0s - loss: 0.0027\n",
      "Epoch 26/100\n",
      " - 0s - loss: 0.0027\n",
      "Epoch 27/100\n",
      " - 0s - loss: 0.0027\n",
      "Epoch 28/100\n",
      " - 0s - loss: 0.0027\n",
      "Epoch 29/100\n",
      " - 0s - loss: 0.0027\n",
      "Epoch 30/100\n",
      " - 0s - loss: 0.0027\n",
      "Epoch 31/100\n",
      " - 0s - loss: 0.0026\n",
      "Epoch 32/100\n",
      " - 0s - loss: 0.0027\n",
      "Epoch 33/100\n",
      " - 0s - loss: 0.0027\n",
      "Epoch 34/100\n",
      " - 0s - loss: 0.0027\n",
      "Epoch 35/100\n",
      " - 0s - loss: 0.0028\n",
      "Epoch 36/100\n",
      " - 0s - loss: 0.0027\n",
      "Epoch 37/100\n",
      " - 0s - loss: 0.0027\n",
      "Epoch 38/100\n",
      " - 0s - loss: 0.0027\n",
      "Epoch 39/100\n",
      " - 0s - loss: 0.0027\n",
      "Epoch 40/100\n",
      " - 0s - loss: 0.0027\n",
      "Epoch 41/100\n",
      " - 0s - loss: 0.0027\n",
      "Epoch 42/100\n",
      " - 0s - loss: 0.0028\n",
      "Epoch 43/100\n",
      " - 0s - loss: 0.0027\n",
      "Epoch 44/100\n",
      " - 0s - loss: 0.0027\n",
      "Epoch 45/100\n",
      " - 0s - loss: 0.0026\n",
      "Epoch 46/100\n",
      " - 0s - loss: 0.0027\n",
      "Epoch 47/100\n",
      " - 0s - loss: 0.0026\n",
      "Epoch 48/100\n",
      " - 0s - loss: 0.0028\n",
      "Epoch 49/100\n",
      " - 0s - loss: 0.0026\n",
      "Epoch 50/100\n",
      " - 0s - loss: 0.0027\n",
      "Epoch 51/100\n",
      " - 0s - loss: 0.0027\n",
      "Epoch 52/100\n",
      " - 0s - loss: 0.0027\n",
      "Epoch 53/100\n",
      " - 0s - loss: 0.0027\n",
      "Epoch 54/100\n",
      " - 0s - loss: 0.0027\n",
      "Epoch 55/100\n",
      " - 0s - loss: 0.0027\n",
      "Epoch 56/100\n",
      " - 0s - loss: 0.0026\n",
      "Epoch 57/100\n",
      " - 0s - loss: 0.0027\n",
      "Epoch 58/100\n",
      " - 0s - loss: 0.0028\n",
      "Epoch 59/100\n",
      " - 0s - loss: 0.0027\n",
      "Epoch 60/100\n",
      " - 0s - loss: 0.0026\n",
      "Epoch 61/100\n",
      " - 0s - loss: 0.0026\n",
      "Epoch 62/100\n",
      " - 0s - loss: 0.0027\n",
      "Epoch 63/100\n",
      " - 0s - loss: 0.0027\n",
      "Epoch 64/100\n",
      " - 0s - loss: 0.0025\n",
      "Epoch 65/100\n",
      " - 0s - loss: 0.0027\n",
      "Epoch 66/100\n",
      " - 0s - loss: 0.0027\n",
      "Epoch 67/100\n",
      " - 0s - loss: 0.0027\n",
      "Epoch 68/100\n",
      " - 0s - loss: 0.0027\n",
      "Epoch 69/100\n",
      " - 0s - loss: 0.0026\n",
      "Epoch 70/100\n",
      " - 0s - loss: 0.0026\n",
      "Epoch 71/100\n",
      " - 0s - loss: 0.0026\n",
      "Epoch 72/100\n",
      " - 0s - loss: 0.0027\n",
      "Epoch 73/100\n",
      " - 0s - loss: 0.0027\n",
      "Epoch 74/100\n",
      " - 0s - loss: 0.0026\n",
      "Epoch 75/100\n",
      " - 0s - loss: 0.0026\n",
      "Epoch 76/100\n",
      " - 0s - loss: 0.0027\n",
      "Epoch 77/100\n",
      " - 0s - loss: 0.0026\n",
      "Epoch 78/100\n",
      " - 0s - loss: 0.0027\n",
      "Epoch 79/100\n",
      " - 0s - loss: 0.0027\n",
      "Epoch 80/100\n",
      " - 0s - loss: 0.0028\n",
      "Epoch 81/100\n",
      " - 0s - loss: 0.0027\n",
      "Epoch 82/100\n",
      " - 0s - loss: 0.0026\n",
      "Epoch 83/100\n",
      " - 0s - loss: 0.0026\n",
      "Epoch 84/100\n",
      " - 0s - loss: 0.0026\n",
      "Epoch 85/100\n",
      " - 0s - loss: 0.0025\n",
      "Epoch 86/100\n",
      " - 0s - loss: 0.0026\n",
      "Epoch 87/100\n",
      " - 0s - loss: 0.0026\n",
      "Epoch 88/100\n",
      " - 0s - loss: 0.0028\n",
      "Epoch 89/100\n",
      " - 0s - loss: 0.0027\n",
      "Epoch 90/100\n",
      " - 0s - loss: 0.0026\n",
      "Epoch 91/100\n",
      " - 0s - loss: 0.0027\n",
      "Epoch 92/100\n",
      " - 0s - loss: 0.0026\n",
      "Epoch 93/100\n",
      " - 0s - loss: 0.0026\n",
      "Epoch 94/100\n",
      " - 0s - loss: 0.0027\n",
      "Epoch 95/100\n",
      " - 0s - loss: 0.0026\n",
      "Epoch 96/100\n",
      " - 0s - loss: 0.0026\n",
      "Epoch 97/100\n",
      " - 0s - loss: 0.0026\n",
      "Epoch 98/100\n",
      " - 0s - loss: 0.0026\n",
      "Epoch 99/100\n",
      " - 0s - loss: 0.0027\n",
      "Epoch 100/100\n",
      " - 0s - loss: 0.0027\n"
     ]
    },
    {
     "data": {
      "text/plain": [
       "<keras.callbacks.History at 0x13802ed68>"
      ]
     },
     "execution_count": 8,
     "metadata": {},
     "output_type": "execute_result"
    }
   ],
   "source": [
    "model = Sequential()\n",
    "model.add(LSTM(4, input_shape=(1, look_back)))\n",
    "model.add(Dense(1))\n",
    "model.compile(loss='mean_squared_error', optimizer='adam')\n",
    "model.fit(trainX, trainY, epochs=100, batch_size=1, verbose=2)"
   ]
  },
  {
   "cell_type": "code",
   "execution_count": 9,
   "metadata": {},
   "outputs": [
    {
     "name": "stdout",
     "output_type": "stream",
     "text": [
      "Train Score: 26.23 RMSE\n",
      "Test Score: 50.80 RMSE\n"
     ]
    }
   ],
   "source": [
    "trainPredict = model.predict(trainX)\n",
    "testPredict = model.predict(testX)\n",
    "# invert predictions\n",
    "trainPredict = scaler.inverse_transform(trainPredict)\n",
    "trainY = scaler.inverse_transform([trainY])\n",
    "testPredict = scaler.inverse_transform(testPredict)\n",
    "testY = scaler.inverse_transform([testY])\n",
    "# calculate root mean squared error\n",
    "trainScore = math.sqrt(mean_squared_error(trainY[0], trainPredict[:,0]))\n",
    "print('Train Score: %.2f RMSE' % (trainScore))\n",
    "testScore = math.sqrt(mean_squared_error(testY[0], testPredict[:,0]))\n",
    "print('Test Score: %.2f RMSE' % (testScore))"
   ]
  },
  {
   "cell_type": "code",
   "execution_count": 10,
   "metadata": {},
   "outputs": [
    {
     "data": {
      "image/png": "[encoded data removed]",
      "text/plain": [
       "<Figure size 432x288 with 1 Axes>"
      ]
     },
     "metadata": {
      "needs_background": "light"
     },
     "output_type": "display_data"
    }
   ],
   "source": [
    "trainPredictPlot = numpy.empty_like(dataset)\n",
    "trainPredictPlot[:, :] = numpy.nan\n",
    "trainPredictPlot[look_back:len(trainPredict)+look_back, :] = trainPredict\n",
    "# shift test predictions for plotting\n",
    "testPredictPlot = numpy.empty_like(dataset)\n",
    "testPredictPlot[:, :] = numpy.nan\n",
    "testPredictPlot[len(trainPredict)+(look_back*2)+1:len(dataset)-1, :] = testPredict\n",
    "# plot baseline and predictions\n",
    "plt.plot(scaler.inverse_transform(dataset))\n",
    "plt.plot(trainPredictPlot)\n",
    "plt.plot(testPredictPlot)\n",
    "plt.show()"
   ]
  },
  {
   "cell_type": "code",
   "execution_count": null,
   "metadata": {},
   "outputs": [],
   "source": []
  }
 ],
 "metadata": {
  "kernelspec": {
   "display_name": "Python 3",
   "language": "python",
   "name": "python3"
  },
  "language_info": {
   "codemirror_mode": {
    "name": "ipython",
    "version": 3
   },
   "file_extension": ".py",
   "mimetype": "text/x-python",
   "name": "python",
   "nbconvert_exporter": "python",
   "pygments_lexer": "ipython3",
   "version": "3.6.6"
  }
 },
 "nbformat": 4,
 "nbformat_minor": 2
}
