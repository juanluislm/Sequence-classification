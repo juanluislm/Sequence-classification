{
 "cells": [
  {
   "cell_type": "code",
   "execution_count": 1,
   "metadata": {},
   "outputs": [
    {
     "name": "stderr",
     "output_type": "stream",
     "text": [
      "Using TensorFlow backend.\n"
     ]
    }
   ],
   "source": [
    "from utils_v1 import *"
   ]
  },
  {
   "cell_type": "code",
   "execution_count": 5,
   "metadata": {},
   "outputs": [
    {
     "name": "stdout",
     "output_type": "stream",
     "text": [
      "1) Test RMSE: 98.113\n",
      "2) Test RMSE: 97.551\n",
      "3) Test RMSE: 105.682\n",
      "4) Test RMSE: 103.444\n",
      "5) Test RMSE: 91.779\n",
      "6) Test RMSE: 91.602\n",
      "7) Test RMSE: 199.473\n",
      "8) Test RMSE: 245.212\n",
      "9) Test RMSE: 126.005\n",
      "10) Test RMSE: 93.087\n",
      "          results\n",
      "count   10.000000\n",
      "mean   125.194671\n",
      "std     53.280748\n",
      "min     91.601869\n",
      "25%     94.202838\n",
      "50%    100.778519\n",
      "75%    120.923821\n",
      "max    245.212097\n"
     ]
    }
   ],
   "source": [
    "# series = read_csv('shampoo-sales.csv', header=0, parse_dates=[0], index_col=0, squeeze=True, date_parser=parser)\n",
    "# experiment\n",
    "fname = 'sales-of-shampoo-over-a-three-ye.csv'\n",
    "series = read_csv(fname, header=0, parse_dates=[0], index_col=0, squeeze=True, date_parser=parser)\n",
    "repeats = 10\n",
    "results = DataFrame()\n",
    "# run experiment\n",
    "results['results'] = experiment(repeats, series)\n",
    "# summarize results\n",
    "print(results.describe())\n",
    "# save results\n",
    "results.to_csv('experiment_stateful2.csv', index=False)"
   ]
  },
  {
   "cell_type": "code",
   "execution_count": 34,
   "metadata": {},
   "outputs": [
    {
     "name": "stdout",
     "output_type": "stream",
     "text": [
      "         stateful   stateful2\n",
      "count   10.000000   10.000000\n",
      "mean   110.264377  125.194671\n",
      "std     17.081840   53.280748\n",
      "min     92.705040   91.601869\n",
      "25%     99.406306   94.202838\n",
      "50%    106.136745  100.778519\n",
      "75%    115.843627  120.923821\n",
      "max    150.391907  245.212097\n"
     ]
    },
    {
     "data": {
      "image/png": "[encoded data removed]",
      "text/plain": [
       "<Figure size 432x288 with 1 Axes>"
      ]
     },
     "metadata": {
      "needs_background": "light"
     },
     "output_type": "display_data"
    }
   ],
   "source": [
    "from pandas import read_csv\n",
    "from matplotlib import pyplot\n",
    "import numpy as np\n",
    "# load results into a dataframe\n",
    "filenames = ['experiment_stateful.csv', 'experiment_stateful2.csv']\n",
    "results = DataFrame()\n",
    "for name in filenames:\n",
    "    res = read_csv(name, header=0)\n",
    "    shape = res.values.shape\n",
    "    results[name[11:-4]] = np.reshape(res.values, (shape[1], shape[0]))[0]\n",
    "# describe all results\n",
    "print(results.describe())\n",
    "# box and whisker plot\n",
    "results.boxplot()\n",
    "pyplot.show()"
   ]
  }
 ],
 "metadata": {
  "kernelspec": {
   "display_name": "Python 3",
   "language": "python",
   "name": "python3"
  },
  "language_info": {
   "codemirror_mode": {
    "name": "ipython",
    "version": 3
   },
   "file_extension": ".py",
   "mimetype": "text/x-python",
   "name": "python",
   "nbconvert_exporter": "python",
   "pygments_lexer": "ipython3",
   "version": "3.6.6"
  }
 },
 "nbformat": 4,
 "nbformat_minor": 2
}
